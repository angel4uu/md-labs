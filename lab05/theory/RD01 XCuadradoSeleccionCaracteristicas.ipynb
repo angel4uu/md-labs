{
 "cells": [
  {
   "cell_type": "markdown",
   "id": "86039f58",
   "metadata": {},
   "source": [
    "# Test de Chi-cuadrado (X-cuadrado) para selección de características"
   ]
  },
  {
   "cell_type": "markdown",
   "id": "a52459ab",
   "metadata": {},
   "source": [
    "### Cargar librerías"
   ]
  },
  {
   "cell_type": "code",
   "execution_count": 1,
   "id": "bed2e000",
   "metadata": {},
   "outputs": [],
   "source": [
    "import numpy as np\n",
    "from sklearn.feature_selection import SelectKBest\n",
    "from sklearn.feature_selection import chi2\n",
    "from sklearn.preprocessing import LabelEncoder\n"
   ]
  },
  {
   "cell_type": "markdown",
   "id": "5af6fcb5",
   "metadata": {},
   "source": [
    "### Cargar datos"
   ]
  },
  {
   "cell_type": "code",
   "execution_count": 2,
   "id": "19cd30ca",
   "metadata": {},
   "outputs": [],
   "source": [
    "# Crearemos dos características categóricas y una variable objetivo binaria\n",
    "\n",
    "X = np.array([['bajo','soltero'],\n",
    "              ['medio','casado'],\n",
    "              ['alto','soltero'],\n",
    "              ['medio','divorciado'],\n",
    "              ['bajo','casado'],\n",
    "              ['alto','divorciado'],\n",
    "              ['medio','soltero'],\n",
    "              ['bajo','casado'],\n",
    "              ['alto','soltero']])\n",
    "\n",
    "# variable objetivo (target)\n",
    "y = np.array([0,1,0,1,0,1,0,1,0])"
   ]
  },
  {
   "cell_type": "code",
   "execution_count": 3,
   "id": "90c8bbe8",
   "metadata": {},
   "outputs": [],
   "source": [
    "# Codificar las características categóricas\n",
    "label_encoder = LabelEncoder()\n",
    "X_codificado = np.array([label_encoder.fit_transform(caracteristica) \n",
    "                         for caracteristica in X.T]).T"
   ]
  },
  {
   "cell_type": "code",
   "execution_count": 4,
   "id": "2ff1cd8a",
   "metadata": {},
   "outputs": [
    {
     "data": {
      "text/plain": [
       "array([[1, 2],\n",
       "       [2, 0],\n",
       "       [0, 2],\n",
       "       [2, 1],\n",
       "       [1, 0],\n",
       "       [0, 1],\n",
       "       [2, 2],\n",
       "       [1, 0],\n",
       "       [0, 2]], dtype=int64)"
      ]
     },
     "execution_count": 4,
     "metadata": {},
     "output_type": "execute_result"
    }
   ],
   "source": [
    "X_codificado"
   ]
  },
  {
   "cell_type": "markdown",
   "id": "7666e590",
   "metadata": {},
   "source": [
    "### Aplicar Chi-cuadrado para selección de características"
   ]
  },
  {
   "cell_type": "code",
   "execution_count": 5,
   "id": "c5467645",
   "metadata": {},
   "outputs": [
    {
     "name": "stdout",
     "output_type": "stream",
     "text": [
      "Número original de características: 2\n",
      "Número reducido de características: 1\n"
     ]
    }
   ],
   "source": [
    "# Seleccionar las k mejores características\n",
    "selector_chi2 = SelectKBest(chi2,k=1)\n",
    "X_kMejores = selector_chi2.fit_transform(X_codificado,y)\n",
    "\n",
    "print(\"Número original de características:\",X_codificado.shape[1])\n",
    "print(\"Número reducido de características:\",X_kMejores.shape[1])"
   ]
  },
  {
   "cell_type": "code",
   "execution_count": 6,
   "id": "714d6d5b",
   "metadata": {},
   "outputs": [
    {
     "name": "stdout",
     "output_type": "stream",
     "text": [
      "[[2]\n",
      " [0]\n",
      " [2]\n",
      " [1]\n",
      " [0]\n",
      " [1]\n",
      " [2]\n",
      " [0]\n",
      " [2]]\n"
     ]
    }
   ],
   "source": [
    "print(X_kMejores)"
   ]
  },
  {
   "cell_type": "code",
   "execution_count": 8,
   "id": "e367aa35",
   "metadata": {},
   "outputs": [
    {
     "name": "stdout",
     "output_type": "stream",
     "text": [
      "Puntajes de todas las características: [0.45 2.42]\n",
      "Características seleccionadas: [False  True]\n"
     ]
    }
   ],
   "source": [
    "# Obtener los puntajes de las características\n",
    "scores = selector_chi2.scores_\n",
    "\n",
    "# Mostrar los puntajes\n",
    "print(\"Puntajes de todas las características:\", scores)\n",
    "\n",
    "# Mostrar qué características fueron seleccionadas\n",
    "print(\"Características seleccionadas:\", selector_chi2.get_support())"
   ]
  }
 ],
 "metadata": {
  "kernelspec": {
   "display_name": "Python 3 (ipykernel)",
   "language": "python",
   "name": "python3"
  },
  "language_info": {
   "codemirror_mode": {
    "name": "ipython",
    "version": 3
   },
   "file_extension": ".py",
   "mimetype": "text/x-python",
   "name": "python",
   "nbconvert_exporter": "python",
   "pygments_lexer": "ipython3",
   "version": "3.11.4"
  }
 },
 "nbformat": 4,
 "nbformat_minor": 5
}

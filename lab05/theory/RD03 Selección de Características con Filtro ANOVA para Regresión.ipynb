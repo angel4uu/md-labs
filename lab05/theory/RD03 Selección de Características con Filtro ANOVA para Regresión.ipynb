{
 "cells": [
  {
   "cell_type": "markdown",
   "id": "4c74e5d8",
   "metadata": {},
   "source": [
    "Para aplicar el filtro ANOVA en un escenario de regresión usando Python, utilizaremos la función f_regression que ofrece scikit-learn. Esta función evalúa la relación lineal entre cada característica regresora y la variable respuesta continua. A continuación, te muestro cómo usar f_regression para seleccionar las características más importantes de un conjunto de datos, aplicando la técnica de reducción de dimensionalidad.\n",
    "\n",
    "Usaremos un conjunto de datos hipotético para ilustrar cómo se podría realizar este proceso"
   ]
  },
  {
   "cell_type": "markdown",
   "id": "79524ab7",
   "metadata": {},
   "source": [
    "### Cargar las librerías necesarias"
   ]
  },
  {
   "cell_type": "code",
   "execution_count": 1,
   "id": "ea8c52ac",
   "metadata": {},
   "outputs": [],
   "source": [
    "import numpy as np\n",
    "from sklearn.datasets import make_regression\n",
    "from sklearn.feature_selection import SelectKBest\n",
    "from sklearn.feature_selection import f_regression"
   ]
  },
  {
   "cell_type": "markdown",
   "id": "f5f908ab",
   "metadata": {},
   "source": [
    "### Generar un conjunto de datos de regresión\n",
    "\n",
    "Para el propósito de este ejemplo, generaremos un conjunto de datos sintético con características, algunas de las cuales serán más informativas que otras:"
   ]
  },
  {
   "cell_type": "code",
   "execution_count": 2,
   "id": "bc325c37",
   "metadata": {},
   "outputs": [
    {
     "name": "stdout",
     "output_type": "stream",
     "text": [
      "Dimensiones originales de los datos: (100, 10)\n"
     ]
    }
   ],
   "source": [
    "X, y = make_regression(n_samples=100, n_features=10, \n",
    "                       n_informative=2, noise=0.1, random_state=42)\n",
    "\n",
    "# Mostrar las dimensiones originales de los datos\n",
    "print(\"Dimensiones originales de los datos:\", X.shape)"
   ]
  },
  {
   "cell_type": "code",
   "execution_count": 5,
   "id": "e2fbb386",
   "metadata": {},
   "outputs": [],
   "source": [
    "#X\n",
    "#y"
   ]
  },
  {
   "cell_type": "markdown",
   "id": "c118f10e",
   "metadata": {},
   "source": [
    "### Aplicar Filtro ANOVA para regresión\n",
    "\n",
    "Utilizaremos SelectKBest con f_regression para seleccionar las tres características más importantes"
   ]
  },
  {
   "cell_type": "code",
   "execution_count": 6,
   "id": "13684b19",
   "metadata": {},
   "outputs": [
    {
     "name": "stdout",
     "output_type": "stream",
     "text": [
      "Dimensiones reducidas de los datos: (100, 3)\n"
     ]
    }
   ],
   "source": [
    "# Crear y aplicar SelectKBest usando ANOVA f_regression\n",
    "selector = SelectKBest(f_regression, k=3)\n",
    "X_reduced = selector.fit_transform(X, y)\n",
    "\n",
    "# Mostrar las dimensiones reducidas de los datos\n",
    "print(\"Dimensiones reducidas de los datos:\", X_reduced.shape)"
   ]
  },
  {
   "cell_type": "markdown",
   "id": "72ba15f5",
   "metadata": {},
   "source": [
    "### Evaluar las características seleccionadas\n",
    "Podemos ver qué características han sido seleccionadas y sus respectivos puntajes ANOVA:"
   ]
  },
  {
   "cell_type": "code",
   "execution_count": 7,
   "id": "389be07b",
   "metadata": {},
   "outputs": [
    {
     "name": "stdout",
     "output_type": "stream",
     "text": [
      "Puntajes de todas las características: [1.11159035e+00 2.28654424e+00 3.66692384e+00 1.62482882e+02\n",
      " 4.24750576e-01 7.50895146e-02 4.12961427e+01 9.48156524e-02\n",
      " 2.83604389e-01 3.92526889e-01]\n",
      "Características seleccionadas: [False False  True  True False False  True False False False]\n"
     ]
    }
   ],
   "source": [
    "# Obtener los puntajes de las características\n",
    "scores = selector.scores_\n",
    "\n",
    "# Mostrar los puntajes\n",
    "print(\"Puntajes de todas las características:\", scores)\n",
    "\n",
    "# Mostrar qué características fueron seleccionadas\n",
    "print(\"Características seleccionadas:\", selector.get_support())\n"
   ]
  },
  {
   "cell_type": "markdown",
   "id": "eab7593f",
   "metadata": {},
   "source": [
    "Este bloque de código te dará una salida que muestra cuáles características fueron seleccionadas basadas en el test ANOVA para regresión y sus respectivos puntajes. Este método te permite identificar y mantener aquellas características que tienen un mayor impacto en la variable de respuesta, lo que puede ayudar a mejorar la precisión de los modelos de regresión y a reducir la complejidad del modelo.\n",
    "\n",
    "Este enfoque se puede adaptar fácilmente para trabajar con datos reales y es una herramienta valiosa para la selección de características en problemas de regresión donde la dimensionalidad es un desafío."
   ]
  }
 ],
 "metadata": {
  "kernelspec": {
   "display_name": "Python 3 (ipykernel)",
   "language": "python",
   "name": "python3"
  },
  "language_info": {
   "codemirror_mode": {
    "name": "ipython",
    "version": 3
   },
   "file_extension": ".py",
   "mimetype": "text/x-python",
   "name": "python",
   "nbconvert_exporter": "python",
   "pygments_lexer": "ipython3",
   "version": "3.11.4"
  }
 },
 "nbformat": 4,
 "nbformat_minor": 5
}

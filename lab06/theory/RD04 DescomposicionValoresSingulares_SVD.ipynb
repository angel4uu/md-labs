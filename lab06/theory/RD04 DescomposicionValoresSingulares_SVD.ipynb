{
 "cells": [
  {
   "cell_type": "markdown",
   "id": "104be440",
   "metadata": {},
   "source": [
    "# Descomposición de Valores Singulares\n",
    "\n",
    "Este código primero crea un conjunto de datos tridimensional, donde la tercera dimensión es casi una combinación lineal de las dos primeras. Luego, usamos SVD para descomponer los datos y reducimos la dimensionalidad a 2D. Finalmente, visualizamos los datos originales y los datos reducidos.\n",
    "\n",
    "Es importante notar que SVD es una técnica que descompone los datos, y se puede usar para reducción de dimensionalidad, pero no necesariamente se utiliza para reducción de dimensionalidad en todos los contextos. En aprendizaje automático, es común usar técnicas como PCA (Principal Component Analysis) que utiliza SVD internamente para reducir la dimensionalidad."
   ]
  },
  {
   "cell_type": "code",
   "execution_count": 1,
   "id": "f6e5fa58",
   "metadata": {},
   "outputs": [],
   "source": [
    "import numpy as np\n",
    "import matplotlib.pyplot as plt"
   ]
  },
  {
   "cell_type": "markdown",
   "id": "3545cf6a",
   "metadata": {},
   "source": [
    "### 1. Crear un conjunto de datos artificial"
   ]
  },
  {
   "cell_type": "code",
   "execution_count": 2,
   "id": "f5286251",
   "metadata": {},
   "outputs": [],
   "source": [
    "np.random.seed(42)\n",
    "X = np.random.rand(100, 3)"
   ]
  },
  {
   "cell_type": "code",
   "execution_count": 3,
   "id": "e0b96cfa",
   "metadata": {},
   "outputs": [
    {
     "data": {
      "text/plain": [
       "array([[0.37454012, 0.95071431, 0.73199394],\n",
       "       [0.59865848, 0.15601864, 0.15599452],\n",
       "       [0.05808361, 0.86617615, 0.60111501],\n",
       "       [0.70807258, 0.02058449, 0.96990985],\n",
       "       [0.83244264, 0.21233911, 0.18182497]])"
      ]
     },
     "execution_count": 3,
     "metadata": {},
     "output_type": "execute_result"
    }
   ],
   "source": [
    "X[0:5,:]"
   ]
  },
  {
   "cell_type": "markdown",
   "id": "ed3e73f6",
   "metadata": {},
   "source": [
    "Supongamos que una dimensión es en gran medida una combinación lineal de las otras"
   ]
  },
  {
   "cell_type": "code",
   "execution_count": 4,
   "id": "4d2f491d",
   "metadata": {},
   "outputs": [],
   "source": [
    "X[:, 2] = 0.5 * X[:, 0] + 0.5 * X[:, 1] + np.random.rand(100) * 0.1"
   ]
  },
  {
   "cell_type": "code",
   "execution_count": 5,
   "id": "e3c29442",
   "metadata": {},
   "outputs": [
    {
     "data": {
      "text/plain": [
       "array([[0.37454012, 0.95071431, 0.66779538],\n",
       "       [0.59865848, 0.15601864, 0.43047403],\n",
       "       [0.05808361, 0.86617615, 0.51619339],\n",
       "       [0.70807258, 0.02058449, 0.42807153],\n",
       "       [0.83244264, 0.21233911, 0.59500001]])"
      ]
     },
     "execution_count": 5,
     "metadata": {},
     "output_type": "execute_result"
    }
   ],
   "source": [
    "X[0:5,:]"
   ]
  },
  {
   "cell_type": "markdown",
   "id": "4a7bf95d",
   "metadata": {},
   "source": [
    "### 2. Aplicar SVD"
   ]
  },
  {
   "cell_type": "code",
   "execution_count": 7,
   "id": "07bb5170",
   "metadata": {},
   "outputs": [
    {
     "name": "stdout",
     "output_type": "stream",
     "text": [
      "Forma de la matriz original X: (100, 3)\n",
      "Forma de la matriz U: (100, 3)\n",
      "Forma del vector s: (3,)\n",
      "Forma de la matriz Vt: (3, 3)\n"
     ]
    }
   ],
   "source": [
    "U, s, Vt = np.linalg.svd(X, full_matrices=False)\n",
    "print(\"Forma de la matriz original X:\", X.shape)\n",
    "print(\"Forma de la matriz U:\", U.shape)\n",
    "print(\"Forma del vector s:\", s.shape)\n",
    "print(\"Forma de la matriz Vt:\", Vt.shape)"
   ]
  },
  {
   "cell_type": "code",
   "execution_count": 8,
   "id": "c15672be",
   "metadata": {},
   "outputs": [
    {
     "data": {
      "text/plain": [
       "array([[-0.12097403, -0.12679293,  0.14328239],\n",
       "       [-0.0699852 ,  0.11737662, -0.05414183],\n",
       "       [-0.08865647, -0.18765283, -0.05162881],\n",
       "       [-0.06765741,  0.17726755, -0.08503203],\n",
       "       [-0.09680822,  0.16428199, -0.07209937]])"
      ]
     },
     "execution_count": 8,
     "metadata": {},
     "output_type": "execute_result"
    }
   ],
   "source": [
    "U[0:5,:]"
   ]
  },
  {
   "cell_type": "code",
   "execution_count": 9,
   "id": "325737f5",
   "metadata": {},
   "outputs": [
    {
     "data": {
      "text/plain": [
       "array([9.6230903 , 2.87976389, 0.27341321])"
      ]
     },
     "execution_count": 9,
     "metadata": {},
     "output_type": "execute_result"
    }
   ],
   "source": [
    "s"
   ]
  },
  {
   "cell_type": "code",
   "execution_count": 10,
   "id": "9606ab85",
   "metadata": {},
   "outputs": [
    {
     "data": {
      "text/plain": [
       "array([[-0.53453866, -0.58644399, -0.60856541],\n",
       "       [ 0.72507665, -0.68816677,  0.02627453],\n",
       "       [ 0.43420303,  0.42721182, -0.79306859]])"
      ]
     },
     "execution_count": 10,
     "metadata": {},
     "output_type": "execute_result"
    }
   ],
   "source": [
    "Vt"
   ]
  },
  {
   "cell_type": "code",
   "execution_count": 11,
   "id": "0872217f",
   "metadata": {},
   "outputs": [
    {
     "name": "stdout",
     "output_type": "stream",
     "text": [
      "-1.164144014644909\n",
      "-0.3651337013212977\n"
     ]
    }
   ],
   "source": [
    "print(-0.12097403*9.6230903)\n",
    "print(-0.12679293*2.87976389)"
   ]
  },
  {
   "cell_type": "markdown",
   "id": "851da294",
   "metadata": {},
   "source": [
    "Reducir la dimensionalidad a 2D"
   ]
  },
  {
   "cell_type": "code",
   "execution_count": 12,
   "id": "3dc4703f",
   "metadata": {},
   "outputs": [],
   "source": [
    "X_reduced = U[:, :2] * s[:2]"
   ]
  },
  {
   "cell_type": "code",
   "execution_count": 13,
   "id": "30777c9b",
   "metadata": {},
   "outputs": [
    {
     "data": {
      "text/plain": [
       "(100, 2)"
      ]
     },
     "execution_count": 13,
     "metadata": {},
     "output_type": "execute_result"
    }
   ],
   "source": [
    "X_reduced.shape"
   ]
  },
  {
   "cell_type": "code",
   "execution_count": 14,
   "id": "e51e7906",
   "metadata": {},
   "outputs": [
    {
     "data": {
      "text/plain": [
       "array([[-1.16414404, -0.36513369],\n",
       "       [-0.6734739 ,  0.33801694],\n",
       "       [-0.85314918, -0.54039583],\n",
       "       [-0.65107335,  0.5104887 ],\n",
       "       [-0.9315942 ,  0.47309334],\n",
       "       [-0.48422729, -0.06741673],\n",
       "       [-0.65315054,  0.12363611],\n",
       "       [-0.39688548, -0.0933814 ],\n",
       "       [-1.13033072, -0.19125042],\n",
       "       [-0.97551222, -0.0195707 ],\n",
       "       [-0.68822628,  0.33454262],\n",
       "       [-1.66083428,  0.04885653],\n",
       "       [-0.34405846,  0.15900517],\n",
       "       [-0.53649548,  0.2450766 ],\n",
       "       [-0.88967665, -0.58623552],\n",
       "       [-0.87574181,  0.28049763],\n",
       "       [-0.64813453,  0.27988143],\n",
       "       [-1.49758086, -0.06152035],\n",
       "       [-1.33218949, -0.1805032 ],\n",
       "       [-0.21990868,  0.11480502],\n",
       "       [-0.60115268,  0.10520145],\n",
       "       [-0.59297602,  0.07559875],\n",
       "       [-0.87292585, -0.43573977],\n",
       "       [-1.53271669,  0.20798117],\n",
       "       [-0.78909513, -0.54387516],\n",
       "       [-1.34340373,  0.01947178],\n",
       "       [-0.43763245,  0.18786589],\n",
       "       [-0.8548027 ,  0.23836868],\n",
       "       [-0.57604349,  0.01116562],\n",
       "       [-1.34013696, -0.12759009],\n",
       "       [-0.75728765, -0.39223984],\n",
       "       [-1.20365225, -0.10409176],\n",
       "       [-0.82017761,  0.09732366],\n",
       "       [-0.12556023,  0.0587363 ],\n",
       "       [-0.71948557, -0.1111174 ],\n",
       "       [-0.57712929, -0.09288258],\n",
       "       [-0.31254922,  0.11918596],\n",
       "       [-1.00616457, -0.50670872],\n",
       "       [-1.3364024 , -0.11942828],\n",
       "       [-0.95747893, -0.46451799],\n",
       "       [-1.50538854, -0.00753282],\n",
       "       [-0.3241557 , -0.07137707],\n",
       "       [-1.46338444,  0.02330642],\n",
       "       [-0.82662759,  0.09641594],\n",
       "       [-0.4255201 , -0.13836687],\n",
       "       [-0.77068869, -0.10998796],\n",
       "       [-1.20926213, -0.38587647],\n",
       "       [-0.65686994, -0.14966919],\n",
       "       [-0.29458411,  0.18635771],\n",
       "       [-0.50559907,  0.33797939],\n",
       "       [-1.00587614,  0.51010513],\n",
       "       [-1.34063162, -0.30177192],\n",
       "       [-1.2822824 , -0.01620522],\n",
       "       [-0.94835332,  0.28974307],\n",
       "       [-1.01294165,  0.10620214],\n",
       "       [-1.02549237,  0.40178384],\n",
       "       [-0.56214057, -0.36869974],\n",
       "       [-0.50569746, -0.33189346],\n",
       "       [-0.75371672,  0.36104345],\n",
       "       [-1.19379365, -0.34531494],\n",
       "       [-0.41079032,  0.17620185],\n",
       "       [-1.00483479,  0.47523611],\n",
       "       [-1.20792332,  0.2297119 ],\n",
       "       [-0.31900434,  0.11712519],\n",
       "       [-1.37650457,  0.23981262],\n",
       "       [-0.96304943, -0.23123567],\n",
       "       [-1.49725775,  0.13094601],\n",
       "       [-0.26964192, -0.04461209],\n",
       "       [-0.52879288,  0.44198052],\n",
       "       [-0.56528904,  0.48657176],\n",
       "       [-1.08271215, -0.06170197],\n",
       "       [-0.82358785, -0.31513539],\n",
       "       [-0.94361952, -0.263441  ],\n",
       "       [-1.33966553,  0.18479499],\n",
       "       [-0.41044298, -0.17887996],\n",
       "       [-1.09076196, -0.47585619],\n",
       "       [-1.36185593,  0.23470385],\n",
       "       [-0.93690268, -0.01831231],\n",
       "       [-0.85684711, -0.34140543],\n",
       "       [-0.61248887, -0.4170219 ],\n",
       "       [-1.64575751,  0.05064014],\n",
       "       [-0.36666566,  0.26465327],\n",
       "       [-1.25847056, -0.33477652],\n",
       "       [-1.03119596,  0.43324727],\n",
       "       [-1.0409764 ,  0.41632059],\n",
       "       [-1.34981192, -0.21878255],\n",
       "       [-0.58190084,  0.35597112],\n",
       "       [-0.96605326,  0.63677689],\n",
       "       [-1.44146148,  0.14962053],\n",
       "       [-0.9585682 ,  0.27803631],\n",
       "       [-1.46077778,  0.05323372],\n",
       "       [-1.2466225 ,  0.3300798 ],\n",
       "       [-1.27120702,  0.15154523],\n",
       "       [-1.50752922, -0.01127466],\n",
       "       [-0.41949935,  0.21471542],\n",
       "       [-0.5015124 , -0.28531379],\n",
       "       [-0.81886792, -0.18504571],\n",
       "       [-0.79014783, -0.52658154],\n",
       "       [-0.6174525 , -0.2567589 ],\n",
       "       [-0.78177934, -0.25916484]])"
      ]
     },
     "execution_count": 14,
     "metadata": {},
     "output_type": "execute_result"
    }
   ],
   "source": [
    "X_reduced"
   ]
  },
  {
   "cell_type": "markdown",
   "id": "b6c84bc6",
   "metadata": {},
   "source": [
    "### 3. Visualizar los datos"
   ]
  },
  {
   "cell_type": "code",
   "execution_count": 15,
   "id": "98562661",
   "metadata": {},
   "outputs": [
    {
     "data": {
      "image/png": "[encoded data removed]",
      "text/plain": [
       "<Figure size 1200x600 with 2 Axes>"
      ]
     },
     "metadata": {},
     "output_type": "display_data"
    }
   ],
   "source": [
    "fig, ax = plt.subplots(1, 2, figsize=(12, 6))\n",
    "ax[0].scatter(X[:, 0], X[:, 1], alpha=0.5)\n",
    "ax[0].set_title(\"Datos originales (primeras dos dimensiones)\")\n",
    "\n",
    "ax[1].scatter(X_reduced[:, 0], X_reduced[:, 1], alpha=0.5)\n",
    "ax[1].set_title(\"Datos reducidos a 2D usando SVD\")\n",
    "\n",
    "plt.show()"
   ]
  },
  {
   "cell_type": "markdown",
   "id": "242a6484",
   "metadata": {},
   "source": [
    "### Varianza Explicada\n",
    "La proporción de la varianza explicada por cada componente se puede determinar a partir de los valores singulares s que se obtienen del SVD. La proporción de varianza explicada por un componente particular se calcula como el cuadrado de un valor singular dividido por la suma de los cuadrados de todos los valores singulares."
   ]
  },
  {
   "cell_type": "code",
   "execution_count": 16,
   "id": "0bf0e00c",
   "metadata": {},
   "outputs": [
    {
     "data": {
      "text/plain": [
       "array([9.6230903 , 2.87976389, 0.27341321])"
      ]
     },
     "execution_count": 16,
     "metadata": {},
     "output_type": "execute_result"
    }
   ],
   "source": [
    "s"
   ]
  },
  {
   "cell_type": "markdown",
   "id": "eb03c57c",
   "metadata": {},
   "source": [
    "Calculamos la proporción de varianza explicada para cada componente"
   ]
  },
  {
   "cell_type": "code",
   "execution_count": 17,
   "id": "261a61b3",
   "metadata": {},
   "outputs": [],
   "source": [
    "explained_variance_ratio = s**2 / np.sum(s**2)"
   ]
  },
  {
   "cell_type": "code",
   "execution_count": 18,
   "id": "a0fa6746",
   "metadata": {
    "scrolled": true
   },
   "outputs": [
    {
     "data": {
      "text/plain": [
       "array([9.171e+01, 8.210e+00, 7.000e-02])"
      ]
     },
     "execution_count": 18,
     "metadata": {},
     "output_type": "execute_result"
    }
   ],
   "source": [
    "np.round(explained_variance_ratio*100,2)"
   ]
  },
  {
   "cell_type": "code",
   "execution_count": 23,
   "id": "bb825f93",
   "metadata": {},
   "outputs": [
    {
     "data": {
      "text/plain": [
       "99.92596458963433"
      ]
     },
     "execution_count": 23,
     "metadata": {},
     "output_type": "execute_result"
    }
   ],
   "source": [
    "# Varianza explicada de los 2 primeros componentes\n",
    "np.sum(explained_variance_ratio[0:2])*100"
   ]
  },
  {
   "cell_type": "markdown",
   "id": "abb0e81f",
   "metadata": {},
   "source": [
    "Calculamos la varianza explicada acumulada"
   ]
  },
  {
   "cell_type": "code",
   "execution_count": 24,
   "id": "4d124cfc",
   "metadata": {},
   "outputs": [
    {
     "name": "stdout",
     "output_type": "stream",
     "text": [
      "Varianza explicada por cada componente: [9.17127294e-01 8.21323518e-02 7.40354104e-04]\n",
      "Varianza explicada acumulada: [0.91712729 0.99925965 1.        ]\n"
     ]
    }
   ],
   "source": [
    "cumulative_explained_variance_ratio = np.cumsum(explained_variance_ratio)\n",
    "\n",
    "print(\"Varianza explicada por cada componente:\", explained_variance_ratio)\n",
    "print(\"Varianza explicada acumulada:\", cumulative_explained_variance_ratio)"
   ]
  },
  {
   "cell_type": "markdown",
   "id": "2a2b012e",
   "metadata": {},
   "source": [
    "Visualizamos la varianza explicada"
   ]
  },
  {
   "cell_type": "code",
   "execution_count": 25,
   "id": "ab1c7989",
   "metadata": {},
   "outputs": [
    {
     "data": {
      "image/png": "[encoded data removed]",
      "text/plain": [
       "<Figure size 800x600 with 1 Axes>"
      ]
     },
     "metadata": {},
     "output_type": "display_data"
    }
   ],
   "source": [
    "plt.figure(figsize=(8, 6))\n",
    "plt.bar(range(len(explained_variance_ratio)), explained_variance_ratio, alpha=0.5, \n",
    "        align='center', label='Varianza explicada individual')\n",
    "plt.plot(range(len(cumulative_explained_variance_ratio)), \n",
    "         cumulative_explained_variance_ratio, color='red', marker='o', \n",
    "         linestyle='dashed', linewidth=2, markersize=5, label='Varianza explicada acumulada')\n",
    "plt.title(\"Varianza explicada por cada componente y acumulada\")\n",
    "plt.xlabel(\"Componente Principal\")\n",
    "plt.ylabel(\"Proporción de Varianza Explicada\")\n",
    "plt.legend()\n",
    "plt.show()"
   ]
  },
  {
   "cell_type": "markdown",
   "id": "cbab7201",
   "metadata": {},
   "source": [
    "Se muestra un gráfico que permite ver la proporción de varianza que se explica por cada componente, así como la varianza explicada acumulada. Esto te ayuda a decidir cuántos componentes principales deberías considerar para retener una cierta proporción de la varianza de tus datos originales."
   ]
  }
 ],
 "metadata": {
  "kernelspec": {
   "display_name": "Python 3 (ipykernel)",
   "language": "python",
   "name": "python3"
  },
  "language_info": {
   "codemirror_mode": {
    "name": "ipython",
    "version": 3
   },
   "file_extension": ".py",
   "mimetype": "text/x-python",
   "name": "python",
   "nbconvert_exporter": "python",
   "pygments_lexer": "ipython3",
   "version": "3.11.4"
  }
 },
 "nbformat": 4,
 "nbformat_minor": 5
}

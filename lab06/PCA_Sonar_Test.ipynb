{
 "cells": [
  {
   "cell_type": "markdown",
   "metadata": {},
   "source": [
    "# Comparación de modelo con data con y sin PCA\n",
    "sonar.csv\n"
   ]
  },
  {
   "cell_type": "markdown",
   "metadata": {},
   "source": [
    "## Librerias"
   ]
  },
  {
   "cell_type": "code",
   "execution_count": 3,
   "metadata": {},
   "outputs": [],
   "source": [
    "import pandas as pd\n",
    "from sklearn.model_selection import train_test_split\n",
    "from sklearn.preprocessing import StandardScaler\n",
    "from sklearn.decomposition import PCA\n",
    "from sklearn.linear_model import LogisticRegression\n",
    "from sklearn.metrics import accuracy_score, classification_report, confusion_matrix"
   ]
  },
  {
   "cell_type": "markdown",
   "metadata": {},
   "source": [
    "## Modelo sin PCA"
   ]
  },
  {
   "cell_type": "code",
   "execution_count": 5,
   "metadata": {},
   "outputs": [
    {
     "name": "stdout",
     "output_type": "stream",
     "text": [
      "=== RESULTADOS SIN PCA ===\n",
      "Exactitud: 0.8333\n",
      "Reporte de clasificación:\n",
      "              precision    recall  f1-score   support\n",
      "\n",
      "           M       0.78      0.95      0.86        22\n",
      "           R       0.93      0.70      0.80        20\n",
      "\n",
      "    accuracy                           0.83        42\n",
      "   macro avg       0.86      0.83      0.83        42\n",
      "weighted avg       0.85      0.83      0.83        42\n",
      "\n",
      "Matriz de confusión:\n",
      "[[21  1]\n",
      " [ 6 14]]\n"
     ]
    }
   ],
   "source": [
    "# --- 1. Cargar dataset ---\n",
    "df = pd.read_csv(\"sonar.csv\", header=None)\n",
    "\n",
    "# Última columna = etiqueta (R o M)\n",
    "X = df.iloc[:, :-1]\n",
    "y = df.iloc[:, -1]\n",
    "\n",
    "# --- 2. Escalado ---\n",
    "scaler = StandardScaler()\n",
    "X_scaled = scaler.fit_transform(X)\n",
    "\n",
    "# --- 3. División en train/test ---\n",
    "X_train, X_test, y_train, y_test = train_test_split(\n",
    "    X_scaled, y, test_size=0.2, random_state=42, stratify=y\n",
    ")\n",
    "\n",
    "# --- 4. Modelo  ---\n",
    "model_base = LogisticRegression(max_iter=1000)\n",
    "model_base.fit(X_train, y_train)\n",
    "y_pred_base = model_base.predict(X_test)\n",
    "\n",
    "print(\"=== RESULTADOS SIN PCA ===\")\n",
    "print(f\"Exactitud: {accuracy_score(y_test, y_pred_base):.4f}\")\n",
    "print(\"Reporte de clasificación:\")\n",
    "print(classification_report(y_test, y_pred_base))\n",
    "print(\"Matriz de confusión:\")\n",
    "print(confusion_matrix(y_test, y_pred_base))"
   ]
  },
  {
   "cell_type": "markdown",
   "metadata": {},
   "source": [
    "## Modelo con PCA"
   ]
  },
  {
   "cell_type": "code",
   "execution_count": 7,
   "metadata": {},
   "outputs": [
    {
     "name": "stdout",
     "output_type": "stream",
     "text": [
      "=== RESULTADOS CON PCA ===\n",
      "Exactitud: 0.7381\n",
      "Reporte de clasificación:\n",
      "              precision    recall  f1-score   support\n",
      "\n",
      "           M       0.70      0.91      0.79        23\n",
      "           R       0.83      0.53      0.65        19\n",
      "\n",
      "    accuracy                           0.74        42\n",
      "   macro avg       0.77      0.72      0.72        42\n",
      "weighted avg       0.76      0.74      0.73        42\n",
      "\n",
      "Matriz de confusión:\n",
      "[[21  2]\n",
      " [ 9 10]]\n"
     ]
    }
   ],
   "source": [
    "# --- 1. Cargar dataset ---\n",
    "df = pd.read_csv(\"sonar_pca.csv\")\n",
    "\n",
    "# Última columna = etiqueta (R o M)\n",
    "X = df.iloc[:, :-1]\n",
    "y = df.iloc[:, -1]\n",
    "\n",
    "# --- 2. Escalado ---\n",
    "scaler = StandardScaler()\n",
    "X_scaled = scaler.fit_transform(X)\n",
    "\n",
    "# --- 3. División en train/test ---\n",
    "X_train, X_test, y_train, y_test = train_test_split(\n",
    "    X_scaled, y, test_size=0.2, random_state=42, stratify=y\n",
    ")\n",
    "\n",
    "# --- 4. Modelo  ---\n",
    "model_base = LogisticRegression(max_iter=1000)\n",
    "model_base.fit(X_train, y_train)\n",
    "y_pred_base = model_base.predict(X_test)\n",
    "\n",
    "print(\"=== RESULTADOS CON PCA ===\")\n",
    "print(f\"Exactitud: {accuracy_score(y_test, y_pred_base):.4f}\")\n",
    "print(\"Reporte de clasificación:\")\n",
    "print(classification_report(y_test, y_pred_base))\n",
    "print(\"Matriz de confusión:\")\n",
    "print(confusion_matrix(y_test, y_pred_base))"
   ]
  }
 ],
 "metadata": {
  "kernelspec": {
   "display_name": "venv",
   "language": "python",
   "name": "python3"
  },
  "language_info": {
   "codemirror_mode": {
    "name": "ipython",
    "version": 3
   },
   "file_extension": ".py",
   "mimetype": "text/x-python",
   "name": "python",
   "nbconvert_exporter": "python",
   "pygments_lexer": "ipython3",
   "version": "3.12.3"
  }
 },
 "nbformat": 4,
 "nbformat_minor": 1
}

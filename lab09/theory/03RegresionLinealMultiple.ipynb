{
 "cells": [
  {
   "cell_type": "markdown",
   "id": "1eae722c",
   "metadata": {},
   "source": [
    "# Regresión Lineal Múltiple"
   ]
  },
  {
   "cell_type": "code",
   "execution_count": 1,
   "id": "bd972f20",
   "metadata": {},
   "outputs": [
    {
     "name": "stdout",
     "output_type": "stream",
     "text": [
      "                            OLS Regression Results                            \n",
      "==============================================================================\n",
      "Dep. Variable:                      y   R-squared:                       0.947\n",
      "Model:                            OLS   Adj. R-squared:                  0.929\n",
      "Method:                 Least Squares   F-statistic:                     53.57\n",
      "Date:                Mon, 27 May 2024   Prob (F-statistic):            0.00527\n",
      "Time:                        10:01:09   Log-Likelihood:                -9.6687\n",
      "No. Observations:                   5   AIC:                             23.34\n",
      "Df Residuals:                       3   BIC:                             22.56\n",
      "Df Model:                           1                                         \n",
      "Covariance Type:            nonrobust                                         \n",
      "==============================================================================\n",
      "                 coef    std err          t      P>|t|      [0.025      0.975]\n",
      "------------------------------------------------------------------------------\n",
      "const          0.0787      0.045      1.757      0.177      -0.064       0.221\n",
      "X1             1.7978      0.185      9.734      0.002       1.210       2.386\n",
      "X2             1.8764      0.170     11.055      0.002       1.336       2.417\n",
      "X3            -1.3258      0.387     -3.423      0.042      -2.559      -0.093\n",
      "==============================================================================\n",
      "Omnibus:                          nan   Durbin-Watson:                   1.429\n",
      "Prob(Omnibus):                    nan   Jarque-Bera (JB):                0.674\n",
      "Skew:                           0.256   Prob(JB):                        0.714\n",
      "Kurtosis:                       1.276   Cond. No.                     2.88e+17\n",
      "==============================================================================\n",
      "\n",
      "Notes:\n",
      "[1] Standard Errors assume that the covariance matrix of the errors is correctly specified.\n",
      "[2] The smallest eigenvalue is 2.17e-33. This might indicate that there are\n",
      "strong multicollinearity problems or that the design matrix is singular.\n"
     ]
    },
    {
     "name": "stderr",
     "output_type": "stream",
     "text": [
      "C:\\Users\\Juan\\anaconda3\\Lib\\site-packages\\statsmodels\\stats\\stattools.py:74: ValueWarning: omni_normtest is not valid with less than 8 observations; 5 samples were given.\n",
      "  warn(\"omni_normtest is not valid with less than 8 observations; %i \"\n"
     ]
    }
   ],
   "source": [
    "import numpy as np\n",
    "import pandas as pd\n",
    "import statsmodels.api as sm\n",
    "\n",
    "# Datos de ejemplo\n",
    "data = {\n",
    "    'X1': [1, 2, 3, 4, 5],\n",
    "    'X2': [2, 3, 4, 5, 6],\n",
    "    'X3': [5, 4, 3, 2, 1],\n",
    "    'y': [1, 3, 7, 13, 21]\n",
    "}\n",
    "\n",
    "df = pd.DataFrame(data)\n",
    "\n",
    "# Variables independientes\n",
    "X = df[['X1', 'X2', 'X3']]\n",
    "\n",
    "# Agregar constante para el intercepto\n",
    "X = sm.add_constant(X)\n",
    "\n",
    "# Variable dependiente\n",
    "y = df['y']\n",
    "\n",
    "# Ajuste del modelo de regresión lineal múltiple\n",
    "model = sm.OLS(y, X).fit()\n",
    "\n",
    "# Resumen del modelo\n",
    "print(model.summary())"
   ]
  }
 ],
 "metadata": {
  "kernelspec": {
   "display_name": "Python 3 (ipykernel)",
   "language": "python",
   "name": "python3"
  },
  "language_info": {
   "codemirror_mode": {
    "name": "ipython",
    "version": 3
   },
   "file_extension": ".py",
   "mimetype": "text/x-python",
   "name": "python",
   "nbconvert_exporter": "python",
   "pygments_lexer": "ipython3",
   "version": "3.11.4"
  }
 },
 "nbformat": 4,
 "nbformat_minor": 5
}

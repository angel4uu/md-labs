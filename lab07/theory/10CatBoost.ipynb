{
 "cells": [
  {
   "cell_type": "code",
   "execution_count": 2,
   "id": "16d087d1",
   "metadata": {},
   "outputs": [],
   "source": [
    "#!pip install catboost"
   ]
  },
  {
   "cell_type": "code",
   "execution_count": 3,
   "id": "5de806fa",
   "metadata": {},
   "outputs": [],
   "source": [
    "# Importar las bibliotecas necesarias\n",
    "from catboost import CatBoostClassifier, CatBoostRegressor\n",
    "from sklearn.datasets import load_iris, fetch_california_housing\n",
    "from sklearn.model_selection import train_test_split\n",
    "from sklearn.metrics import accuracy_score, mean_squared_error"
   ]
  },
  {
   "cell_type": "code",
   "execution_count": 4,
   "id": "99b5a678",
   "metadata": {},
   "outputs": [],
   "source": [
    "# Cargar el dataset Iris para la clasificación\n",
    "iris = load_iris()\n",
    "X_iris, y_iris = iris.data, iris.target\n",
    "X_train_iris, X_test_iris, y_train_iris, y_test_iris = train_test_split(\n",
    "    X_iris, y_iris, test_size=0.2, random_state=42)"
   ]
  },
  {
   "cell_type": "code",
   "execution_count": 5,
   "id": "307edb1b",
   "metadata": {},
   "outputs": [],
   "source": [
    "# Cargar el dataset California Housing para la regresión\n",
    "california_housing = fetch_california_housing()\n",
    "X_california, y_california = california_housing.data, california_housing.target\n",
    "X_train_california, X_test_california, y_train_california, y_test_california = train_test_split(\n",
    "    X_california, y_california, test_size=0.2, random_state=42)"
   ]
  },
  {
   "cell_type": "code",
   "execution_count": 6,
   "id": "93cd2bb7",
   "metadata": {},
   "outputs": [],
   "source": [
    "# CatBoost para la clasificación (Iris)\n",
    "# Utilizamos 100 iteraciones por rapidez\n",
    "cat_clf = CatBoostClassifier(iterations=100, random_seed=42, verbose=0)  \n",
    "cat_clf.fit(X_train_iris, y_train_iris)\n",
    "y_pred_iris_cat = cat_clf.predict(X_test_iris)\n",
    "accuracy_iris_cat = accuracy_score(y_test_iris, y_pred_iris_cat)"
   ]
  },
  {
   "cell_type": "code",
   "execution_count": 7,
   "id": "5db98229",
   "metadata": {},
   "outputs": [],
   "source": [
    "# CatBoost para la regresión (California Housing)\n",
    "# Utilizamos 100 iteraciones por rapidez\n",
    "cat_reg = CatBoostRegressor(iterations=100, random_seed=42, verbose=0)  \n",
    "cat_reg.fit(X_train_california, y_train_california)\n",
    "y_pred_california_cat = cat_reg.predict(X_test_california)\n",
    "mse_california_cat = mean_squared_error(y_test_california, y_pred_california_cat)"
   ]
  },
  {
   "cell_type": "code",
   "execution_count": 8,
   "id": "e73702e7",
   "metadata": {},
   "outputs": [
    {
     "name": "stdout",
     "output_type": "stream",
     "text": [
      "Exactitud en clasificación (Iris): 1.0\n",
      "Error cuadrático medio en regresión (California Housing): 0.21760748940390057\n"
     ]
    }
   ],
   "source": [
    "# Imprimir resultados\n",
    "print(f\"Exactitud en clasificación (Iris): {accuracy_iris_cat}\")\n",
    "print(f\"Error cuadrático medio en regresión (California Housing): {mse_california_cat}\")"
   ]
  }
 ],
 "metadata": {
  "kernelspec": {
   "display_name": "Python 3 (ipykernel)",
   "language": "python",
   "name": "python3"
  },
  "language_info": {
   "codemirror_mode": {
    "name": "ipython",
    "version": 3
   },
   "file_extension": ".py",
   "mimetype": "text/x-python",
   "name": "python",
   "nbconvert_exporter": "python",
   "pygments_lexer": "ipython3",
   "version": "3.11.4"
  }
 },
 "nbformat": 4,
 "nbformat_minor": 5
}

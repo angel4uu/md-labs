{
 "cells": [
  {
   "cell_type": "markdown",
   "id": "957325ee",
   "metadata": {},
   "source": [
    "# Gradient Boosting Machines (GBM)"
   ]
  },
  {
   "cell_type": "code",
   "execution_count": 1,
   "id": "e4b25a73",
   "metadata": {},
   "outputs": [],
   "source": [
    "# Importar las librerías para Clasificación y Regresión\n",
    "from sklearn.datasets import load_iris, fetch_california_housing\n",
    "from sklearn.model_selection import train_test_split\n",
    "from sklearn.ensemble import GradientBoostingClassifier, GradientBoostingRegressor\n",
    "from sklearn.metrics import accuracy_score, mean_squared_error"
   ]
  },
  {
   "cell_type": "code",
   "execution_count": 2,
   "id": "d660f017",
   "metadata": {},
   "outputs": [],
   "source": [
    "# Cargar dataset iris\n",
    "iris = load_iris()\n",
    "X_iris, y_iris = iris.data, iris.target\n",
    "X_train_iris, X_test_iris, y_train_iris, y_test_iris = train_test_split(X_iris, \n",
    "                                                                        y_iris, \n",
    "                                                                        test_size=0.2, \n",
    "                                                                        random_state=42)"
   ]
  },
  {
   "cell_type": "code",
   "execution_count": 3,
   "id": "490d6b5d",
   "metadata": {},
   "outputs": [],
   "source": [
    "# Cargar dataset california_housing\n",
    "california_housing = fetch_california_housing()\n",
    "X_california, y_california = california_housing.data, california_housing.target\n",
    "X_train_california, X_test_california, y_train_california, y_test_california = train_test_split(\n",
    "    X_california, y_california, test_size=0.2, random_state=42)"
   ]
  },
  {
   "cell_type": "code",
   "execution_count": 4,
   "id": "5fed598b",
   "metadata": {},
   "outputs": [],
   "source": [
    "# Modelo de Clasificación\n",
    "gbc = GradientBoostingClassifier(random_state=42)\n",
    "gbc.fit(X_train_iris, y_train_iris)\n",
    "y_pred_iris = gbc.predict(X_test_iris)\n",
    "accuracy_iris = accuracy_score(y_test_iris, y_pred_iris)"
   ]
  },
  {
   "cell_type": "code",
   "execution_count": 5,
   "id": "2a0044bd",
   "metadata": {},
   "outputs": [],
   "source": [
    "# Modelo de Regresión\n",
    "gbr = GradientBoostingRegressor(random_state=42)\n",
    "gbr.fit(X_train_california, y_train_california)\n",
    "y_pred_california = gbr.predict(X_test_california)\n",
    "mse_california = mean_squared_error(y_test_california, y_pred_california)"
   ]
  },
  {
   "cell_type": "code",
   "execution_count": 7,
   "id": "6e504db2",
   "metadata": {},
   "outputs": [
    {
     "name": "stdout",
     "output_type": "stream",
     "text": [
      "exactitud iris= 1.0\n",
      "mse_california= 0.2939973248643864\n"
     ]
    }
   ],
   "source": [
    "print('exactitud iris=',accuracy_iris)\n",
    "print('mse_california=',mse_california)"
   ]
  }
 ],
 "metadata": {
  "kernelspec": {
   "display_name": "Python 3 (ipykernel)",
   "language": "python",
   "name": "python3"
  },
  "language_info": {
   "codemirror_mode": {
    "name": "ipython",
    "version": 3
   },
   "file_extension": ".py",
   "mimetype": "text/x-python",
   "name": "python",
   "nbconvert_exporter": "python",
   "pygments_lexer": "ipython3",
   "version": "3.11.4"
  }
 },
 "nbformat": 4,
 "nbformat_minor": 5
}

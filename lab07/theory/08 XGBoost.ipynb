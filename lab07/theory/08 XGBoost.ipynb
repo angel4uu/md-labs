{
 "cells": [
  {
   "cell_type": "code",
   "execution_count": 1,
   "id": "39bf44ac",
   "metadata": {},
   "outputs": [],
   "source": [
    "#! pip install xgboost"
   ]
  },
  {
   "cell_type": "code",
   "execution_count": 2,
   "id": "7a6318b2",
   "metadata": {},
   "outputs": [],
   "source": [
    "# Import necessary libraries for XGBoost\n",
    "# Import necessary libraries for classification and regression\n",
    "from sklearn.datasets import load_iris, fetch_california_housing\n",
    "from sklearn.model_selection import train_test_split\n",
    "import xgboost as xgb\n",
    "from sklearn.metrics import accuracy_score, mean_squared_error"
   ]
  },
  {
   "cell_type": "code",
   "execution_count": 3,
   "id": "990b8775",
   "metadata": {},
   "outputs": [],
   "source": [
    "# Load Iris dataset for classification\n",
    "iris = load_iris()\n",
    "X_iris, y_iris = iris.data, iris.target\n",
    "X_train_iris, X_test_iris, y_train_iris, y_test_iris = train_test_split(\n",
    "    X_iris, y_iris, test_size=0.2, random_state=42)"
   ]
  },
  {
   "cell_type": "code",
   "execution_count": 4,
   "id": "083c8dc4",
   "metadata": {},
   "outputs": [],
   "source": [
    "# Load California housing dataset for regression\n",
    "california_housing = fetch_california_housing()\n",
    "X_california, y_california = california_housing.data, california_housing.target\n",
    "X_train_california, X_test_california, y_train_california, y_test_california = train_test_split(\n",
    "    X_california, y_california, test_size=0.2, random_state=42)"
   ]
  },
  {
   "cell_type": "code",
   "execution_count": 5,
   "id": "cfa72df7",
   "metadata": {},
   "outputs": [
    {
     "name": "stderr",
     "output_type": "stream",
     "text": [
      "C:\\Users\\Juan\\anaconda3\\Lib\\site-packages\\xgboost\\core.py:158: UserWarning: [17:07:21] WARNING: C:\\buildkite-agent\\builds\\buildkite-windows-cpu-autoscaling-group-i-0015a694724fa8361-1\\xgboost\\xgboost-ci-windows\\src\\learner.cc:740: \n",
      "Parameters: { \"use_label_encoder\" } are not used.\n",
      "\n",
      "  warnings.warn(smsg, UserWarning)\n"
     ]
    }
   ],
   "source": [
    "# Reducir más parámetros para acelerar\n",
    "xgb_clf = xgb.XGBClassifier(use_label_encoder=False, \n",
    "                            eval_metric='mlogloss', \n",
    "                            n_estimators=20, \n",
    "                            max_depth=3, \n",
    "                            random_state=42)\n",
    "xgb_clf.fit(X_train_iris, y_train_iris)\n",
    "y_pred_iris_xgb = xgb_clf.predict(X_test_iris)\n",
    "accuracy_iris_xgb = accuracy_score(y_test_iris, y_pred_iris_xgb)"
   ]
  },
  {
   "cell_type": "code",
   "execution_count": 6,
   "id": "6ec8a2c3",
   "metadata": {},
   "outputs": [],
   "source": [
    "# Regresión usando XGBoost con menos iteraciones\n",
    "xgb_reg = xgb.XGBRegressor(n_estimators=20, max_depth=3, random_state=42)\n",
    "xgb_reg.fit(X_train_california, y_train_california)\n",
    "y_pred_california_xgb = xgb_reg.predict(X_test_california)\n",
    "mse_california_xgb = mean_squared_error(y_test_california, \n",
    "                                        y_pred_california_xgb)"
   ]
  },
  {
   "cell_type": "code",
   "execution_count": 8,
   "id": "330f38e8",
   "metadata": {},
   "outputs": [
    {
     "name": "stdout",
     "output_type": "stream",
     "text": [
      "Exactitud en clasificación (Iris): 1.0\n",
      "Error cuadrático medio en regresión (California Housing): 0.32392013323624613\n"
     ]
    }
   ],
   "source": [
    "# Imprimir resultados\n",
    "print(f\"Exactitud en clasificación (Iris): {accuracy_iris_xgb}\")\n",
    "print(f\"Error cuadrático medio en regresión (California Housing): {mse_california_xgb}\")"
   ]
  }
 ],
 "metadata": {
  "kernelspec": {
   "display_name": "Python 3 (ipykernel)",
   "language": "python",
   "name": "python3"
  },
  "language_info": {
   "codemirror_mode": {
    "name": "ipython",
    "version": 3
   },
   "file_extension": ".py",
   "mimetype": "text/x-python",
   "name": "python",
   "nbconvert_exporter": "python",
   "pygments_lexer": "ipython3",
   "version": "3.11.4"
  }
 },
 "nbformat": 4,
 "nbformat_minor": 5
}
